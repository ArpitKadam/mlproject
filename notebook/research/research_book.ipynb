{
 "cells": [
  {
   "cell_type": "code",
   "execution_count": 7,
   "metadata": {},
   "outputs": [
    {
     "name": "stdout",
     "output_type": "stream",
     "text": [
      "['pandas', 'numpy', 'scikit-learn', 'matplotlib', 'seaborn', 'ipykernel']\n"
     ]
    }
   ],
   "source": [
    "## this file is in notebooks folder and requirements.txt file is just outside of this folder in the root directory\n",
    "E_DOT = '-e .'\n",
    "def get_requirements(filename: str) -> list:\n",
    "    with open(filename, \"r\") as f:\n",
    "        requirements = f.read().splitlines()\n",
    "        if E_DOT in requirements:\n",
    "            requirements.remove(E_DOT)\n",
    "    return requirements\n",
    "\n",
    "print(get_requirements(\"C:\\\\Users\\\\Arpit Kadam\\\\Desktop\\\\mlproject\\\\requirements.txt\"))"
   ]
  },
  {
   "cell_type": "code",
   "execution_count": null,
   "metadata": {},
   "outputs": [],
   "source": []
  }
 ],
 "metadata": {
  "kernelspec": {
   "display_name": "myenv",
   "language": "python",
   "name": "python3"
  },
  "language_info": {
   "codemirror_mode": {
    "name": "ipython",
    "version": 3
   },
   "file_extension": ".py",
   "mimetype": "text/x-python",
   "name": "python",
   "nbconvert_exporter": "python",
   "pygments_lexer": "ipython3",
   "version": "3.10.11"
  }
 },
 "nbformat": 4,
 "nbformat_minor": 2
}
